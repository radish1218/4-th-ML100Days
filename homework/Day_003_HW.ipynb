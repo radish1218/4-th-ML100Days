{
 "cells": [
  {
   "cell_type": "markdown",
   "metadata": {},
   "source": [
    "## [作業目標]\n",
    "持續接觸有關機器學習的相關專案與最新技術"
   ]
  },
  {
   "cell_type": "markdown",
   "metadata": {},
   "source": [
    "## [作業重點]\n",
    "透過觀察頂尖公司的機器學習文章，來了解各公司是怎麼應用機器學習在實際的專案上"
   ]
  },
  {
   "cell_type": "markdown",
   "metadata": {},
   "source": [
    "## [作業]\n",
    "今天的作業希望大家能夠看看全球機器學習巨頭們在做的機器學習專案。以 google 為例，下圖是 Google 內部專案使用機器學習的數量，隨著時間進展，現在早已超過 2000 個專案在使用機器學習。"
   ]
  },
  {
   "cell_type": "markdown",
   "metadata": {},
   "source": [
    "![image](https://cdn-images-1.medium.com/max/800/1*U_L8qI8RmYS-MOBrYvXhSA.png)"
   ]
  },
  {
   "cell_type": "markdown",
   "metadata": {},
   "source": [
    "底下幫同學整理幾間知名企業的 blog 或機器學習網站 (自行搜尋也可)，這些網站都會整理最新的機器學習專案或者是技術文章，請挑選一篇文章閱讀並試著回答\n",
    "1. 專案的目標？ (要解決什麼問題）\n",
    "2. 使用的技術是？ (只需知道名稱即可，例如：使用 CNN 卷積神經網路做影像分類)\n",
    "3. 資料來源？ "
   ]
  },
  {
   "cell_type": "markdown",
   "metadata": {},
   "source": [
    "- [Google AI blog](https://ai.googleblog.com/)\n",
    "- [Facebook Research blog](https://research.fb.com/blog/)\n",
    "- [Apple machine learning journal](https://machinelearning.apple.com/)\n",
    "- [機器之心](https://www.jiqizhixin.com/)\n",
    "- [雷鋒網](http://www.leiphone.com/category/ai)"
   ]
  },
  {
   "cell_type": "code",
   "execution_count": null,
   "metadata": {},
   "outputs": [],
   "source": [
    "我選擇的是雷鋒網的https://www.leiphone.com/news/202002/7H9rGG67qVWEtzt1.html\n",
    "題目：語音識別 AI 挑戰賽上線：用深度學習三種結構，對 50 種環境聲音分類！\n",
    "這篇文章的\n",
    "作業 1：\n",
    "目標：進行50種環境聲音分類語音識別\n",
    "\n",
    "作業 2：\n",
    "方法：在目前大多數語音識別應用中，深度學習是較為常見的一種方法。\n",
    "    根據深層神經網路的構造方式、訓練方法等因素將深度學習分為3 大類別：\n",
    "    1.生成深層結構：語言按一定的短語規則和句子規則生成深層結構 (語義介入)，而深層結構經轉換規則處理後變成表層結構 (語音介入)，於是轉換為了\n",
    "    人類看得見聽得懂的話語。通過學習觀測數據高階相關性，或觀測數據和關聯類別之間的統計特徵分佈來實現模式分類，從而轉換為機器可以識別語言\n",
    "    的一類深層結構。該模型除了可以使用 DBN 識別特徵、分類數據之外，它還可以被用來生成數據。\n",
    "    2.判別深層結構：通過直接學習不同類別之間的區分錶達能力來實現模式分類的一類深層結構。其代表模型是卷積神經網絡（Convolutional Neural \n",
    "    Network，CNN）。通常情況下，語音識別都是基於時頻分析後的語音譜完成的，而其中語音時頻譜則具有較強的結構特點。而卷積神經網絡恰好提供了在\n",
    "    時間和空間上的平移不變性卷積，將這一思想應用到語音識別的聲學建模中，則可以很好的克服語音信號本身的多樣性。\n",
    "    3.混合深層結構：混合深層結構是將上述生成深層模型和判別生成模式相結合而成的一類深層結構。在大部分混合深層模型訓練中，生成單元首先將模型\n",
    "    參數初始化為近似最優解，再使用判別單元全局微調，從而解決高度複雜問題的建模與推廣問題。\n",
    "\n",
    "作業 3：\n",
    "資料來源：數據集來自 freesound.org 公開項目https://static.leiphone.com/sound_classification_50.zip\n"
   ]
  }
 ],
 "metadata": {
  "kernelspec": {
   "display_name": "Python 3",
   "language": "python",
   "name": "python3"
  },
  "language_info": {
   "codemirror_mode": {
    "name": "ipython",
    "version": 3
   },
   "file_extension": ".py",
   "mimetype": "text/x-python",
   "name": "python",
   "nbconvert_exporter": "python",
   "pygments_lexer": "ipython3",
   "version": "3.7.4"
  }
 },
 "nbformat": 4,
 "nbformat_minor": 2
}
